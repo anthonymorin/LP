{
 "cells": [
  {
   "cell_type": "markdown",
   "metadata": {},
   "source": [
    "# More Advanced LP - The Stigler Diet Problem\n",
    "\n",
    "The last example was somewhat simplistic so we could observe the fundamentals, but let's now take a look at a real problem solved by LP\n",
    "\n",
    "In the 1940s, there was an interest in finding the cheapest diet possible which would fulfill the average person's basic nutritional needs.\n",
    "Economist George Stigler formulated the problem, and attempted to find solutions by guessing.\n",
    "\n",
    "In 1947, Jack Laderman of the National Bureau of Standards reformulated the problem using the Simplex LP algorithm.\n",
    "At the time, since computers had not yet been invented, the calculations needed to be done by hand.  \n",
    "It took 120 person-days of Jack's 9 clerk team to arrive at the solution.\n",
    "\n",
    "## Problem Statement\n",
    "\n",
    "Find the daily quantity of foods that minimize price while meeting basic human nutritional requirements\n",
    "\n",
    "We can intuit that the result will be a linear combination of some amounts of certain foods.\n",
    "\n",
    "Let's find out what it is.\n",
    "\n",
    "We'll start by setting up our environment"
   ]
  },
  {
   "cell_type": "code",
   "execution_count": 2,
   "metadata": {},
   "outputs": [
    {
     "data": {
      "text/html": [
       "<div><div></div><div></div><div><strong>Installed Packages</strong><ul><li><span>Google.OrTools, 9.2.9972</span></li></ul></div></div>"
      ]
     },
     "metadata": {},
     "output_type": "display_data"
    }
   ],
   "source": [
    "#r \"nuget: Google.OrTools, 9.2.9972\"\n",
    "\n",
    "using System;\n",
    "using System.Collections.Generic;\n",
    "using Google.OrTools.LinearSolver;"
   ]
  },
  {
   "cell_type": "markdown",
   "metadata": {},
   "source": [
    "### Foods List\n",
    "\n",
    "The foods that Stigler considered are shown in the table below\n",
    "\n",
    "| Commodity | Unit | 1939 price (cents) | Calories (kcal) | Protein (g) | Calcium (g) | Iron (mg) | Vitamin A (KIU) | Thiamine (mg) | Riboflavin (mg) | Niacin (mg) | Ascorbic Acid (mg) |\n",
    "| --- | --- | --- | --- | --- | --- | --- | --- | --- | --- | --- | --- |\n",
    "| Wheat Flour (Enriched) | 10 lb. | 36 | 44.7 | 1411 | 2 | 365 | 0 | 55.4 | 33.3 | 441 | 0 |\n",
    "| Macaroni | 1 lb. | 14.1 | 11.6 | 418 | 0.7 | 54 | 0 | 3.2 | 1.9 | 68 | 0 |\n",
    "| Wheat Cereal (Enriched) | 28 oz. | 24.2 | 11.8 | 377 | 14.4 | 175 | 0 | 14.4 | 8.8 | 114 | 0 |\n",
    "| Corn Flakes | 8 oz. | 7.1 | 11.4 | 252 | 0.1 | 56 | 0 | 13.5 | 2.3 | 68 | 0 |\n",
    "| Corn Meal | 1 lb. | 4.6 | 36.0 | 897 | 1.7 | 99 | 30.9 | 17.4 | 7.9 | 106 | 0 |\n",
    "| Hominy Grits | 24 oz. | 8.5 | 28.6 | 680 | 0.8 | 80 | 0 | 10.6 | 1.6 | 110 | 0 |\n",
    "| Rice | 1 lb. | 7.5 | 21.2 | 460 | 0.6 | 41 | 0 | 2 | 4.8 | 60 | 0 |\n",
    "| Rolled Oats | 1 lb. | 7.1 | 25.3 | 907 | 5.1 | 341 | 0 | 37.1 | 8.9 | 64 | 0 |\n",
    "| White Bread (Enriched) | 1 lb. | 7.9 | 15.0 | 488 | 2.5 | 115 | 0 | 13.8 | 8.5 | 126 | 0 |\n",
    "| Whole Wheat Bread | 1 lb. | 9.1 | 12.2 | 484 | 2.7 | 125 | 0 | 13.9 | 6.4 | 160 | 0 |\n",
    "| Rye Bread | 1 lb. | 9.1 | 12.4 | 439 | 1.1 | 82 | 0 | 9.9 | 3 | 66 | 0 |\n",
    "| Pound Cake | 1 lb. | 24.8 | 8.0 | 130 | 0.4 | 31 | 18.9 | 2.8 | 3 | 17 | 0 |\n",
    "| Soda Crackers | 1 lb. | 15.1 | 12.5 | 288 | 0.5 | 50 | 0 | 0 | 0 | 0 | 0 |\n",
    "| Milk | 1 qt. | 11 | 6.1 | 310 | 10.5 | 18 | 16.8 | 4 | 16 | 7 | 177 |\n",
    "| Evaporated Milk (can) | 14.5 oz. | 6.7 | 8.4 | 422 | 15.1 | 9 | 26 | 3 | 23.5 | 11 | 60 |\n",
    "| Butter | 1 lb. | 30.8 | 10.8 | 9 | 0.2 | 3 | 44.2 | 0 | 0.2 | 2 | 0 |\n",
    "| Oleomargarine | 1 lb. | 16.1 | 20.6 | 17 | 0.6 | 6 | 55.8 | 0.2 | 0 | 0 | 0 |\n",
    "| Eggs | 1 doz. | 32.6 | 2.9 | 238 | 1.0 | 52 | 18.6 | 2.8 | 6.5 | 1 | 0 |\n",
    "| Cheese (Cheddar) | 1 lb. | 24.2 | 7.4 | 448 | 16.4 | 19 | 28.1 | 0.8 | 10.3 | 4 | 0 |\n",
    "| Cream | 1/2 pt. | 14.1 | 3.5 | 49 | 1.7 | 3 | 16.9 | 0.6 | 2.5 | 0 | 17 |\n",
    "| Peanut Butter | 1 lb. | 17.9 | 15.7 | 661 | 1.0 | 48 | 0 | 9.6 | 8.1 | 471 | 0 |\n",
    "| Mayonnaise | 1/2 pt. | 16.7 | 8.6 | 18 | 0.2 | 8 | 2.7 | 0.4 | 0.5 | 0 | 0 |\n",
    "| Crisco | 1 lb. | 20.3 | 20.1 | 0 | 0 | 0 | 0 | 0 | 0 | 0 | 0 |\n",
    "| Lard | 1 lb. | 9.8 | 41.7 | 0 | 0 | 0 | 0.2 | 0 | 0.5 | 5 | 0 |\n",
    "| Sirloin Steak | 1 lb. | 39.6 | 2.9 | 166 | 0.1 | 34 | 0.2 | 2.1 | 2.9 | 69 | 0 |\n",
    "| Round Steak | 1 lb. | 36.4 | 2.2 | 214 | 0.1 | 32 | 0.4 | 2.5 | 2.4 | 87 | 0 |\n",
    "| Rib Roast | 1 lb. | 29.2 | 3.4 | 213 | 0.1 | 33 | 0 | 0 | 2 | 0 | 0 |\n",
    "| Chuck Roast | 1 lb. | 22.6 | 3.6 | 309 | 0.2 | 46 | 0.4 | 1 | 4 | 120 | 0 |\n",
    "| Plate | 1 lb. | 14.6 | 8.5 | 404 | 0.2 | 62 | 0 | 0.9 | 0 | 0 | 0 |\n",
    "| Liver (Beef) | 1 lb. | 26.8 | 2.2 | 333 | 0.2 | 139 | 169.2 | 6.4 | 50.8 | 316 | 525 |\n",
    "| Leg of Lamb | 1 lb. | 27.6 | 3.1 | 245 | 0.1 | 20 | 0 | 2.8 | 3.9 | 86 | 0 |\n",
    "| Lamb Chops (Rib) | 1 lb. | 36.6 | 3.3 | 140 | 0.1 | 15 | 0 | 1.7 | 2.7 | 54 | 0 |\n",
    "| Pork Chops | 1 lb. | 30.7 | 3.5 | 196 | 0.2 | 30 | 0 | 17.4 | 2.7 | 60 | 0 |\n",
    "| Pork Loin Roast | 1 lb. | 24.2 | 4.4 | 249 | 0.3 | 37 | 0 | 18.2 | 3.6 | 79 | 0 |\n",
    "| Bacon | 1 lb. | 25.6 | 10.4 | 152 | 0.2 | 23 | 0 | 1.8 | 1.8 | 71 | 0 |\n",
    "| Ham, smoked | 1 lb. | 27.4 | 6.7 | 212 | 0.2 | 31 | 0 | 9.9 | 3.3 | 50 | 0 |\n",
    "| Salt Pork | 1 lb. | 16 | 18.8 | 164 | 0.1 | 26 | 0 | 1.4 | 1.8 | 0 | 0 |\n",
    "| Roasting Chicken | 1 lb. | 30.3 | 1.8 | 184 | 0.1 | 30 | 0.1 | 0.9 | 1.8 | 68 | 46 |\n",
    "| Veal Cutlets | 1 lb. | 42.3 | 1.7 | 156 | 0.1 | 24 | 0 | 1.4 | 2.4 | 57 | 0 |\n",
    "| Salmon, Pink (can) | 16 oz. | 13 | 5.8 | 705 | 6.8 | 45 | 3.5 | 1 | 4.9 | 209 | 0 |\n",
    "| Apples | 1 lb. | 4.4 | 5.8 | 27 | 0.5 | 36 | 7.3 | 3.6 | 2.7 | 5 | 544 |\n",
    "| Bananas | 1 lb. | 6.1 | 4.9 | 60 | 0.4 | 30 | 17.4 | 2.5 | 3.5 | 28 | 498 |\n",
    "| Lemons | 1 doz. | 26 | 1.0 | 21 | 0.5 | 14 | 0 | 0.5 | 0 | 4 | 952 |\n",
    "| Oranges | 1 doz. | 30.9 | 2.2 | 40 | 1.1 | 18 | 11.1 | 3.6 | 1.3 | 10 | 1998 |\n",
    "| Green Beans | 1 lb. | 7.1 | 2.4 | 138 | 3.7 | 80 | 69 | 4.3 | 5.8 | 37 | 862 |\n",
    "| Cabbage | 1 lb. | 3.7 | 2.6 | 125 | 4.0 | 36 | 7.2 | 9 | 4.5 | 26 | 5369 |\n",
    "| Carrots | 1 bunch | 4.7 | 2.7 | 73 | 2.8 | 43 | 188.5 | 6.1 | 4.3 | 89 | 608 |\n",
    "| Celery | 1 stalk | 7.3 | 0.9 | 51 | 3.0 | 23 | 0.9 | 1.4 | 1.4 | 9 | 313 |\n",
    "| Lettuce | 1 head | 8.2 | 0.4 | 27 | 1.1 | 22 | 112.4 | 1.8 | 3.4 | 11 | 449 |\n",
    "| Onions | 1 lb. | 3.6 | 5.8 | 166 | 3.8 | 59 | 16.6 | 4.7 | 5.9 | 21 | 1184 |\n",
    "| Potatoes | 15 lb. | 34 | 14.3 | 336 | 1.8 | 118 | 6.7 | 29.4 | 7.1 | 198 | 2522 |\n",
    "| Spinach | 1 lb. | 8.1 | 1.1 | 106 | 0 | 138 | 918.4 | 5.7 | 13.8 | 33 | 2755 |\n",
    "| Sweet Potatoes | 1 lb. | 5.1 | 9.6 | 138 | 2.7 | 54 | 290.7 | 8.4 | 5.4 | 83 | 1912 |\n",
    "| Peaches (can) | No. 2 1/2 | 16.8 | 3.7 | 20 | 0.4 | 10 | 21.5 | 0.5 | 1 | 31 | 196 |\n",
    "| Pears (can) | No. 2 1/2 | 20.4 | 3.0 | 8 | 0.3 | 8 | 0.8 | 0.8 | 0.8 | 5 | 81 |\n",
    "| Pineapple (can) | No. 2 1/2 | 21.3 | 2.4 | 16 | 0.4 | 8 | 2 | 2.8 | 0.8 | 7 | 399 |\n",
    "| Asparagus (can) | No. 2 | 27.7 | 0.4 | 33 | 0.3 | 12 | 16.3 | 1.4 | 2.1 | 17 | 272 |\n",
    "| Green Beans (can) | No. 2 | 10 | 1.0 | 54 | 2 | 65 | 53.9 | 1.6 | 4.3 | 32 | 431 |\n",
    "| Pork and Beans (can) | 16 oz. | 7.1 | 7.5 | 364 | 4 | 134 | 3.5 | 8.3 | 7.7 | 56 | 0 |\n",
    "| Corn (can) | No. 2 | 10.4 | 5.2 | 136 | 0.2 | 16 | 12 | 1.6 | 2.7 | 42 | 218 |\n",
    "| Peas (can) | No. 2 | 13.8 | 2.3 | 136 | 0.6 | 45 | 34.9 | 4.9 | 2.5 | 37 | 370 |\n",
    "| Tomatoes (can) | No. 2 | 8.6 | 1.3 | 63 | 0.7 | 38 | 53.2 | 3.4 | 2.5 | 36 | 1253 |\n",
    "| Tomato Soup (can) | 10 1/2 oz. | 7.6 | 1.6 | 71 | 0.6 | 43 | 57.9 | 3.5 | 2.4 | 67 | 862 |\n",
    "| Peaches, Dried | 1 lb. | 15.7 | 8.5 | 87 | 1.7 | 173 | 86.8 | 1.2 | 4.3 | 55 | 57 |\n",
    "| Prunes, Dried | 1 lb. | 9 | 12.8 | 99 | 2.5 | 154 | 85.7 | 3.9 | 4.3 | 65 | 257 |\n",
    "| Raisins, Dried | 15 oz. | 9.4 | 13.5 | 104 | 2.5 | 136 | 4.5 | 6.3 | 1.4 | 24 | 136 |\n",
    "| Peas, Dried | 1 lb. | 7.9 | 20.0 | 1367 | 4.2 | 345 | 2.9 | 28.7 | 18.4 | 162 | 0 |\n",
    "| Lima Beans, Dried | 1 lb. | 8.9 | 17.4 | 1055 | 3.7 | 459 | 5.1 | 26.9 | 38.2 | 93 | 0 |\n",
    "| Navy Beans, Dried | 1 lb. | 5.9 | 26.9 | 1691 | 11.4 | 792 | 0 | 38.4 | 24.6 | 217 | 0 |\n",
    "| Coffee | 1 lb. | 22.4 | 0 | 0 | 0 | 0 | 0 | 4 | 5.1 | 50 | 0 |\n",
    "| Tea | 1/4 lb. | 17.4 | 0 | 0 | 0 | 0 | 0 | 0 | 2.3 | 42 | 0 |\n",
    "| Cocoa | 8 oz. | 8.6 | 8.7 | 237 | 3 | 72 | 0 | 2 | 11.9 | 40 | 0 |\n",
    "| Chocolate | 8 oz. | 16.2 | 8.0 | 77 | 1.3 | 39 | 0 | 0.9 | 3.4 | 14 | 0 |\n",
    "| Sugar | 10 lb. | 51.7 | 34.9 | 0 | 0 | 0 | 0 | 0 | 0 | 0 | 0 |\n",
    "| Corn Syrup | 24 oz. | 13.7 | 14.7 | 0 | 0.5 | 74 | 0 | 0 | 0 | 5 | 0 |\n",
    "| Molasses | 18 oz. | 13.6 | 9.0 | 0 | 10.3 | 244 | 0 | 1.9 | 7.5 | 146 | 0 |\n",
    "| Strawberry Preserves | 1 lb. | 20.5 | 6.4 | 11 | 0.4 | 7 | 0.2 | 0.2 | 0.4 | 3 | 0 |\n",
    "\n",
    "**Important note: The nutrition values in the table are per dollar, not per unit.**\n",
    "\n",
    "We'll use this information to create our set of decision variables and to define the coefficients for our constraints.\n",
    "\n",
    "For now, let's capture them in a convenient data structure"
   ]
  },
  {
   "cell_type": "code",
   "execution_count": 3,
   "metadata": {},
   "outputs": [],
   "source": [
    "//Foods.\n",
    "(String Name, String Unit, double Price, double[] Nutrients)[] data = new[] {\n",
    "    (\"Wheat Flour (Enriched)\", \"10 lb.\", 36, new double[] { 44.7, 1411, 2, 365, 0, 55.4, 33.3, 441, 0 }),\n",
    "    (\"Macaroni\", \"1 lb.\", 14.1, new double[] { 11.6, 418, 0.7, 54, 0, 3.2, 1.9, 68, 0 }),\n",
    "    (\"Wheat Cereal (Enriched)\", \"28 oz.\", 24.2, new double[] { 11.8, 377, 14.4, 175, 0, 14.4, 8.8, 114, 0 }),\n",
    "    (\"Corn Flakes\", \"8 oz.\", 7.1, new double[] { 11.4, 252, 0.1, 56, 0, 13.5, 2.3, 68, 0 }),\n",
    "    (\"Corn Meal\", \"1 lb.\", 4.6, new double[] { 36.0, 897, 1.7, 99, 30.9, 17.4, 7.9, 106, 0 }),\n",
    "    (\"Hominy Grits\", \"24 oz.\", 8.5, new double[] { 28.6, 680, 0.8, 80, 0, 10.6, 1.6, 110, 0 }),\n",
    "    (\"Rice\", \"1 lb.\", 7.5, new double[] { 21.2, 460, 0.6, 41, 0, 2, 4.8, 60, 0 }),\n",
    "    (\"Rolled Oats\", \"1 lb.\", 7.1, new double[] { 25.3, 907, 5.1, 341, 0, 37.1, 8.9, 64, 0 }),\n",
    "    (\"White Bread (Enriched)\", \"1 lb.\", 7.9, new double[] { 15.0, 488, 2.5, 115, 0, 13.8, 8.5, 126, 0 }),\n",
    "    (\"Whole Wheat Bread\", \"1 lb.\", 9.1, new double[] { 12.2, 484, 2.7, 125, 0, 13.9, 6.4, 160, 0 }),\n",
    "    (\"Rye Bread\", \"1 lb.\", 9.1, new double[] { 12.4, 439, 1.1, 82, 0, 9.9, 3, 66, 0 }),\n",
    "    (\"Pound Cake\", \"1 lb.\", 24.8, new double[] { 8.0, 130, 0.4, 31, 18.9, 2.8, 3, 17, 0 }),\n",
    "    (\"Soda Crackers\", \"1 lb.\", 15.1, new double[] { 12.5, 288, 0.5, 50, 0, 0, 0, 0, 0 }),\n",
    "    (\"Milk\", \"1 qt.\", 11, new double[] { 6.1, 310, 10.5, 18, 16.8, 4, 16, 7, 177 }),\n",
    "    (\"Evaporated Milk (can)\", \"14.5 oz.\", 6.7, new double[] { 8.4, 422, 15.1, 9, 26, 3, 23.5, 11, 60 }),\n",
    "    (\"Butter\", \"1 lb.\", 30.8, new double[] { 10.8, 9, 0.2, 3, 44.2, 0, 0.2, 2, 0 }),\n",
    "    (\"Oleomargarine\", \"1 lb.\", 16.1, new double[] { 20.6, 17, 0.6, 6, 55.8, 0.2, 0, 0, 0 }),\n",
    "    (\"Eggs\", \"1 doz.\", 32.6, new double[] { 2.9, 238, 1.0, 52, 18.6, 2.8, 6.5, 1, 0 }),\n",
    "    (\"Cheese (Cheddar)\", \"1 lb.\", 24.2, new double[] { 7.4, 448, 16.4, 19, 28.1, 0.8, 10.3, 4, 0 }),\n",
    "    (\"Cream\", \"1/2 pt.\", 14.1, new double[] { 3.5, 49, 1.7, 3, 16.9, 0.6, 2.5, 0, 17 }),\n",
    "    (\"Peanut Butter\", \"1 lb.\", 17.9, new double[] { 15.7, 661, 1.0, 48, 0, 9.6, 8.1, 471, 0 }),\n",
    "    (\"Mayonnaise\", \"1/2 pt.\", 16.7, new double[] { 8.6, 18, 0.2, 8, 2.7, 0.4, 0.5, 0, 0 }),\n",
    "    (\"Crisco\", \"1 lb.\", 20.3, new double[] { 20.1, 0, 0, 0, 0, 0, 0, 0, 0 }),\n",
    "    (\"Lard\", \"1 lb.\", 9.8, new double[] { 41.7, 0, 0, 0, 0.2, 0, 0.5, 5, 0 }),\n",
    "    (\"Sirloin Steak\", \"1 lb.\", 39.6, new double[] { 2.9, 166, 0.1, 34, 0.2, 2.1, 2.9, 69, 0 }),\n",
    "    (\"Round Steak\", \"1 lb.\", 36.4, new double[] { 2.2, 214, 0.1, 32, 0.4, 2.5, 2.4, 87, 0 }),\n",
    "    (\"Rib Roast\", \"1 lb.\", 29.2, new double[] { 3.4, 213, 0.1, 33, 0, 0, 2, 0, 0 }),\n",
    "    (\"Chuck Roast\", \"1 lb.\", 22.6, new double[] { 3.6, 309, 0.2, 46, 0.4, 1, 4, 120, 0 }),\n",
    "    (\"Plate\", \"1 lb.\", 14.6, new double[] { 8.5, 404, 0.2, 62, 0, 0.9, 0, 0, 0 }),\n",
    "    (\"Liver (Beef)\", \"1 lb.\", 26.8, new double[] { 2.2, 333, 0.2, 139, 169.2, 6.4, 50.8, 316, 525 }),\n",
    "    (\"Leg of Lamb\", \"1 lb.\", 27.6, new double[] { 3.1, 245, 0.1, 20, 0, 2.8, 3.9, 86, 0 }),\n",
    "    (\"Lamb Chops (Rib)\", \"1 lb.\", 36.6, new double[] { 3.3, 140, 0.1, 15, 0, 1.7, 2.7, 54, 0 }),\n",
    "    (\"Pork Chops\", \"1 lb.\", 30.7, new double[] { 3.5, 196, 0.2, 30, 0, 17.4, 2.7, 60, 0 }),\n",
    "    (\"Pork Loin Roast\", \"1 lb.\", 24.2, new double[] { 4.4, 249, 0.3, 37, 0, 18.2, 3.6, 79, 0 }),\n",
    "    (\"Bacon\", \"1 lb.\", 25.6, new double[] { 10.4, 152, 0.2, 23, 0, 1.8, 1.8, 71, 0 }),\n",
    "    (\"Ham, smoked\", \"1 lb.\", 27.4, new double[] { 6.7, 212, 0.2, 31, 0, 9.9, 3.3, 50, 0 }),\n",
    "    (\"Salt Pork\", \"1 lb.\", 16, new double[] { 18.8, 164, 0.1, 26, 0, 1.4, 1.8, 0, 0 }),\n",
    "    (\"Roasting Chicken\", \"1 lb.\", 30.3, new double[] { 1.8, 184, 0.1, 30, 0.1, 0.9, 1.8, 68, 46 }),\n",
    "    (\"Veal Cutlets\", \"1 lb.\", 42.3, new double[] { 1.7, 156, 0.1, 24, 0, 1.4, 2.4, 57, 0 }),\n",
    "    (\"Salmon, Pink (can)\", \"16 oz.\", 13, new double[] { 5.8, 705, 6.8, 45, 3.5, 1, 4.9, 209, 0 }),\n",
    "    (\"Apples\", \"1 lb.\", 4.4, new double[] { 5.8, 27, 0.5, 36, 7.3, 3.6, 2.7, 5, 544 }),\n",
    "    (\"Bananas\", \"1 lb.\", 6.1, new double[] { 4.9, 60, 0.4, 30, 17.4, 2.5, 3.5, 28, 498 }),\n",
    "    (\"Lemons\", \"1 doz.\", 26, new double[] { 1.0, 21, 0.5, 14, 0, 0.5, 0, 4, 952 }),\n",
    "    (\"Oranges\", \"1 doz.\", 30.9, new double[] { 2.2, 40, 1.1, 18, 11.1, 3.6, 1.3, 10, 1998 }),\n",
    "    (\"Green Beans\", \"1 lb.\", 7.1, new double[] { 2.4, 138, 3.7, 80, 69, 4.3, 5.8, 37, 862 }),\n",
    "    (\"Cabbage\", \"1 lb.\", 3.7, new double[] { 2.6, 125, 4.0, 36, 7.2, 9, 4.5, 26, 5369 }),\n",
    "    (\"Carrots\", \"1 bunch\", 4.7, new double[] { 2.7, 73, 2.8, 43, 188.5, 6.1, 4.3, 89, 608 }),\n",
    "    (\"Celery\", \"1 stalk\", 7.3, new double[] { 0.9, 51, 3.0, 23, 0.9, 1.4, 1.4, 9, 313 }),\n",
    "    (\"Lettuce\", \"1 head\", 8.2, new double[] { 0.4, 27, 1.1, 22, 112.4, 1.8, 3.4, 11, 449 }),\n",
    "    (\"Onions\", \"1 lb.\", 3.6, new double[] { 5.8, 166, 3.8, 59, 16.6, 4.7, 5.9, 21, 1184 }),\n",
    "    (\"Potatoes\", \"15 lb.\", 34, new double[] { 14.3, 336, 1.8, 118, 6.7, 29.4, 7.1, 198, 2522 }),\n",
    "    (\"Spinach\", \"1 lb.\", 8.1, new double[] { 1.1, 106, 0, 138, 918.4, 5.7, 13.8, 33, 2755 }),\n",
    "    (\"Sweet Potatoes\", \"1 lb.\", 5.1, new double[] { 9.6, 138, 2.7, 54, 290.7, 8.4, 5.4, 83, 1912 }),\n",
    "    (\"Peaches (can)\", \"No. 2 1/2\", 16.8, new double[] { 3.7, 20, 0.4, 10, 21.5, 0.5, 1, 31, 196 }),\n",
    "    (\"Pears (can)\", \"No. 2 1/2\", 20.4, new double[] { 3.0, 8, 0.3, 8, 0.8, 0.8, 0.8, 5, 81 }),\n",
    "    (\"Pineapple (can)\", \"No. 2 1/2\", 21.3, new double[] { 2.4, 16, 0.4, 8, 2, 2.8, 0.8, 7, 399 }),\n",
    "    (\"Asparagus (can)\", \"No. 2\", 27.7, new double[] { 0.4, 33, 0.3, 12, 16.3, 1.4, 2.1, 17, 272 }),\n",
    "    (\"Green Beans (can)\", \"No. 2\", 10, new double[] { 1.0, 54, 2, 65, 53.9, 1.6, 4.3, 32, 431 }),\n",
    "    (\"Pork and Beans (can)\", \"16 oz.\", 7.1, new double[] { 7.5, 364, 4, 134, 3.5, 8.3, 7.7, 56, 0 }),\n",
    "    (\"Corn (can)\", \"No. 2\", 10.4, new double[] { 5.2, 136, 0.2, 16, 12, 1.6, 2.7, 42, 218 }),\n",
    "    (\"Peas (can)\", \"No. 2\", 13.8, new double[] { 2.3, 136, 0.6, 45, 34.9, 4.9, 2.5, 37, 370 }),\n",
    "    (\"Tomatoes (can)\", \"No. 2\", 8.6, new double[] { 1.3, 63, 0.7, 38, 53.2, 3.4, 2.5, 36, 1253 }),\n",
    "    (\"Tomato Soup (can)\", \"10 1/2 oz.\", 7.6, new double[] { 1.6, 71, 0.6, 43, 57.9, 3.5, 2.4, 67, 862 }),\n",
    "    (\"Peaches, Dried\", \"1 lb.\", 15.7, new double[] { 8.5, 87, 1.7, 173, 86.8, 1.2, 4.3, 55, 57 }),\n",
    "    (\"Prunes, Dried\", \"1 lb.\", 9, new double[] { 12.8, 99, 2.5, 154, 85.7, 3.9, 4.3, 65, 257 }),\n",
    "    (\"Raisins, Dried\", \"15 oz.\", 9.4, new double[] { 13.5, 104, 2.5, 136, 4.5, 6.3, 1.4, 24, 136 }),\n",
    "    (\"Peas, Dried\", \"1 lb.\", 7.9, new double[] { 20.0, 1367, 4.2, 345, 2.9, 28.7, 18.4, 162, 0 }),\n",
    "    (\"Lima Beans, Dried\", \"1 lb.\", 8.9, new double[] { 17.4, 1055, 3.7, 459, 5.1, 26.9, 38.2, 93, 0 }),\n",
    "    (\"Navy Beans, Dried\", \"1 lb.\", 5.9, new double[] { 26.9, 1691, 11.4, 792, 0, 38.4, 24.6, 217, 0 }),\n",
    "    (\"Coffee\", \"1 lb.\", 22.4, new double[] { 0, 0, 0, 0, 0, 4, 5.1, 50, 0 }),\n",
    "    (\"Tea\", \"1/4 lb.\", 17.4, new double[] { 0, 0, 0, 0, 0, 0, 2.3, 42, 0 }),\n",
    "    (\"Cocoa\", \"8 oz.\", 8.6, new double[] { 8.7, 237, 3, 72, 0, 2, 11.9, 40, 0 }),\n",
    "    (\"Chocolate\", \"8 oz.\", 16.2, new double[] { 8.0, 77, 1.3, 39, 0, 0.9, 3.4, 14, 0 }),\n",
    "    (\"Sugar\", \"10 lb.\", 51.7, new double[] { 34.9, 0, 0, 0, 0, 0, 0, 0, 0 }),\n",
    "    (\"Corn Syrup\", \"24 oz.\", 13.7, new double[] { 14.7, 0, 0.5, 74, 0, 0, 0, 5, 0 }),\n",
    "    (\"Molasses\", \"18 oz.\", 13.6, new double[] { 9.0, 0, 10.3, 244, 0, 1.9, 7.5, 146, 0 }),\n",
    "    (\"Strawberry Preserves\", \"1 lb.\", 20.5, new double[] { 6.4, 11, 0.4, 7, 0.2, 0.2, 0.4, 3, 0 })\n",
    "};"
   ]
  },
  {
   "cell_type": "markdown",
   "metadata": {},
   "source": [
    "### Nutrients list\n",
    "\n",
    "The nutritional requirement Stigler considered are shown in the next table\n",
    "\n",
    "| Nutrient | Daily Recommended Intake |\n",
    "| -------- | --- |\n",
    "| Calories | 3000 Calories |\n",
    "| Protein | 70 g |\n",
    "| Calcium | 0.8 g |\n",
    "| Iron | 12 mg |\n",
    "| Vitamin A | 5000 IU |\n",
    "| Thiamine (Vitamin B1) | 1.8 mg |\n",
    "| Riboflavin (Vitamin B2) | 2.7 mg |\n",
    "| Niacin | 18 mg |\n",
    "| Ascorbic Acid (Vitamin C) | 75 mg |\n",
    "\n",
    "We can consider these our constraints. \n",
    "\n",
    "Let's capture them in C#"
   ]
  },
  {
   "cell_type": "code",
   "execution_count": 4,
   "metadata": {},
   "outputs": [],
   "source": [
    "// Nutrient minimums.\n",
    "(String Name, double Value)[] nutrients =\n",
    "    new[] { (\"Calories (kcal)\", 3.0), (\"Protein (g)\", 70.0),    (\"Calcium (g)\", 0.8),\n",
    "            (\"Iron (mg)\", 12.0),      (\"Vitamin A (kIU)\", 5.0), (\"Vitamin B1 (mg)\", 1.8),\n",
    "            (\"Vitamin B2 (mg)\", 2.7), (\"Niacin (mg)\", 18.0),    (\"Vitamin C (mg)\", 75.0) };"
   ]
  },
  {
   "cell_type": "markdown",
   "metadata": {},
   "source": [
    "We'll again be using Google's GLOP LP solver"
   ]
  },
  {
   "cell_type": "code",
   "execution_count": 5,
   "metadata": {},
   "outputs": [],
   "source": [
    "Solver solver = Solver.CreateSolver(\"GLOP\");"
   ]
  },
  {
   "cell_type": "markdown",
   "metadata": {},
   "source": [
    "Let's create our decision variables from the food data we defined above.\n",
    "\n",
    "We'll constrain them to be positive-definite, as before."
   ]
  },
  {
   "cell_type": "code",
   "execution_count": 6,
   "metadata": {},
   "outputs": [
    {
     "data": {
      "text/plain": [
       "Number of variables = 77"
      ]
     },
     "metadata": {},
     "output_type": "display_data"
    }
   ],
   "source": [
    "List<Variable> \n",
    "    foods = data.Select(food => solver.MakeNumVar(0.0, double.PositiveInfinity, food.Name)).ToList();\n",
    "\n",
    "display($\"Number of variables = {solver.NumVariables()}\");"
   ]
  },
  {
   "cell_type": "markdown",
   "metadata": {},
   "source": [
    "Next we'll use the food data and the nutrition requirements to model our constraints.\n",
    "\n",
    "For each nutiritional category, we must meet or exceed the associated minimum value"
   ]
  },
  {
   "cell_type": "code",
   "execution_count": 7,
   "metadata": {},
   "outputs": [
    {
     "data": {
      "text/plain": [
       "Number of constraints = 9"
      ]
     },
     "metadata": {},
     "output_type": "display_data"
    }
   ],
   "source": [
    "List<Constraint> constraints = new List<Constraint>();\n",
    "\n",
    "for (int i = 0; i < nutrients.Length; ++i)\n",
    "{\n",
    "    Constraint constraint =\n",
    "        solver.MakeConstraint(nutrients[i].Value, double.PositiveInfinity, nutrients[i].Name);\n",
    "    for (int j = 0; j < data.Length; ++j)\n",
    "    {\n",
    "        constraint.SetCoefficient(foods[j], data[j].Nutrients[i]);\n",
    "    }\n",
    "    constraints.Add(constraint);\n",
    "}\n",
    "\n",
    "display($\"Number of constraints = {solver.NumConstraints()}\");"
   ]
  },
  {
   "cell_type": "markdown",
   "metadata": {},
   "source": [
    "Finally, let's define our objective function, which will minimize the total cost of each food.\n",
    "\n",
    "**Because the nutrition data is price-normalized, we use 1 as the coefficient for each variable in the objective function.**"
   ]
  },
  {
   "cell_type": "code",
   "execution_count": 8,
   "metadata": {},
   "outputs": [],
   "source": [
    "Objective objective = solver.Objective();\n",
    "for (int i = 0; i < data.Length; ++i)\n",
    "{\n",
    "    objective.SetCoefficient(foods[i], 1);\n",
    "}\n",
    "objective.SetMinimization();"
   ]
  },
  {
   "cell_type": "markdown",
   "metadata": {},
   "source": [
    "We won't print the model this time because it's quite large, and will proceed to the solution"
   ]
  },
  {
   "cell_type": "code",
   "execution_count": 9,
   "metadata": {},
   "outputs": [],
   "source": [
    "Solver.ResultStatus resultStatus = solver.Solve();\n",
    "\n",
    "// Check that the problem has an optimal solution.\n",
    "if (resultStatus != Solver.ResultStatus.OPTIMAL)\n",
    "{\n",
    "    Console.WriteLine(\"The problem does not have an optimal solution!\");\n",
    "    if (resultStatus == Solver.ResultStatus.FEASIBLE)\n",
    "    {\n",
    "        Console.WriteLine(\"A potentially suboptimal solution was found.\");\n",
    "    }\n",
    "    else\n",
    "    {\n",
    "        Console.WriteLine(\"The solver could not solve the problem.\");\n",
    "        return;\n",
    "    }\n",
    "}"
   ]
  },
  {
   "cell_type": "markdown",
   "metadata": {},
   "source": [
    "Let's display the solution.  We'll limit the display to foods which have a non-zero quantity"
   ]
  },
  {
   "cell_type": "code",
   "execution_count": 10,
   "metadata": {},
   "outputs": [
    {
     "name": "stdout",
     "output_type": "stream",
     "text": [
      "\n",
      "Annual Foods:\n",
      "Wheat Flour (Enriched)  $10.77    29.93 x 10 lb. unit\n",
      "Liver (Beef)             $0.69    2.58 x 1 lb. unit\n",
      "Cabbage                  $4.09    110.63 x 1 lb. unit\n",
      "Spinach                  $1.83    22.57 x 1 lb. unit\n",
      "Navy Beans, Dried       $22.28    377.55 x 1 lb. unit\n"
     ]
    }
   ],
   "source": [
    "// Display the amounts (in dollars) to purchase of each food.\n",
    "double[] nutrientsResult = new double[nutrients.Length];\n",
    "Console.WriteLine(\"\\nAnnual Foods:\");\n",
    "for (int i = 0; i < foods.Count; ++i)\n",
    "{\n",
    "    if (foods[i].SolutionValue() > 0.0)\n",
    "    {\n",
    "        Console.WriteLine($\"{data[i].Name.PadRight(22)}  {$\"${365 * foods[i].SolutionValue():N2}\".PadLeft(6)}    {365 * foods[i].SolutionValue() / (data[i].Price/100d):N2} x {data[i].Unit} unit\");\n",
    "        for (int j = 0; j < nutrients.Length; ++j)\n",
    "        {\n",
    "            nutrientsResult[j] += data[i].Nutrients[j] * foods[i].SolutionValue();\n",
    "        }\n",
    "    }\n",
    "}\n"
   ]
  },
  {
   "cell_type": "markdown",
   "metadata": {},
   "source": [
    "![Stigler Diet](Linear/StiglerDiet.png \"Mmm beef liver\")\n",
    "\n",
    "> **Remarks**  \n",
    "> \n",
    "> This is perhaps not the most appetizing of diets.  \n",
    "> You could try adding a tastiness constraint and see how it affects the results.\n",
    ">\n",
    "> Consider, too, that the inclusion of beef liver means that this diet does not generalize over a population.  \n",
    "> A cow only has so many livers (1), and under this model, the rest of the cow is not part of the diet.\n",
    "\n",
    "\n",
    "\n",
    "\n",
    "Next we'll display the nutrient composition of the solution"
   ]
  },
  {
   "cell_type": "code",
   "execution_count": 11,
   "metadata": {},
   "outputs": [
    {
     "name": "stdout",
     "output_type": "stream",
     "text": [
      "\n",
      "Nutrients per day:\n",
      "Calories (kcal) :   3.00 (min 3)*\n",
      "Protein (g)     : 147.41 (min 70)\n",
      "Calcium (g)     :   0.80 (min 0.8)*\n",
      "Iron (mg)       :  60.47 (min 12)\n",
      "Vitamin A (kIU) :   5.00 (min 5)*\n",
      "Vitamin B1 (mg) :   4.12 (min 1.8)\n",
      "Vitamin B2 (mg) :   2.70 (min 2.7)*\n",
      "Niacin (mg)     :  27.32 (min 18)\n",
      "Vitamin C (mg)  :  75.00 (min 75)*\n"
     ]
    }
   ],
   "source": [
    "Console.WriteLine(\"\\nNutrients per day:\");\n",
    "for (int i = 0; i < nutrients.Length; ++i)\n",
    "{\n",
    "    bool\n",
    "        isBinding = Math.Abs(nutrientsResult[i] - nutrients[i].Value) < 0.01;\n",
    "    Console.WriteLine($\"{nutrients[i].Name.PadRight(16)}: {$\"{nutrientsResult[i]:N2}\".PadLeft(6)} (min {nutrients[i].Value}){(isBinding ? \"*\" : \"\")}\");\n",
    "}\n",
    "\n"
   ]
  },
  {
   "cell_type": "markdown",
   "metadata": {},
   "source": [
    "> **Note**  \n",
    ">\n",
    "> Nutrient constraints marked with an asterisk are binding constraints.\n",
    "> \n",
    "> A constraint is binding if the optimal solution is on the plane defined by the constraint.\n",
    ">\n",
    "> All of the non-binding constraints could be removed from the model without affecting the optimal solution\n",
    "\n",
    "Finally, we'll display the total annual price of the solution foodstuffs"
   ]
  },
  {
   "cell_type": "code",
   "execution_count": 12,
   "metadata": {},
   "outputs": [
    {
     "name": "stdout",
     "output_type": "stream",
     "text": [
      "\n",
      "Optimal annual price: $39.66\n"
     ]
    }
   ],
   "source": [
    "Console.WriteLine($\"\\nOptimal annual price: ${365 * objective.Value():N2}\");"
   ]
  },
  {
   "cell_type": "markdown",
   "metadata": {},
   "source": [
    "Remember, these are 1947 dollars.  How cheap!"
   ]
  }
 ],
 "metadata": {
  "kernelspec": {
   "display_name": ".NET (C#)",
   "language": "C#",
   "name": "python397jvsc74a57bd0b3ba2566441a7c06988d0923437866b63cedc61552a5af99d1f4fb67d367b25f"
  },
  "language_info": {
   "file_extension": ".cs",
   "mimetype": "text/x-csharp",
   "name": "C#",
   "pygments_lexer": "csharp",
   "version": "9.0"
  }
 },
 "nbformat": 4,
 "nbformat_minor": 2
}
