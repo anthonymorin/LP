{
 "cells": [
  {
   "cell_type": "markdown",
   "metadata": {},
   "source": [
    "# The Simplex Method\n",
    "\n",
    "We've observed that the Google OR-Tools GLOP solver can solve LP problems, but what is it really doing?\n",
    "\n",
    "Let's solve a new problem step by step using the Simplex method, and verify the results with OR-Tools."
   ]
  },
  {
   "cell_type": "markdown",
   "metadata": {},
   "source": [
    "We'll start by writing out the problem in standard form\n",
    "\n",
    "Variables  \n",
    "&nbsp;&nbsp;&nbsp;&nbsp;$x$  \n",
    "&nbsp;&nbsp;&nbsp;&nbsp;$y$  \n",
    "\n",
    "Maximize $3 * x + 4 * y$\n",
    "\n",
    "Subject to  \n",
    "&nbsp;&nbsp;&nbsp;&nbsp;$x + 2 y <= 8$  \n",
    "&nbsp;&nbsp;&nbsp;&nbsp;$x + y <= 6$  "
   ]
  },
  {
   "cell_type": "markdown",
   "metadata": {},
   "source": [
    "We want to convert this into what's called a tableau, which is a matrix of the form  \n",
    "\n",
    "$\\begin{bmatrix} {\\color{red}{1}} & {\\color{lime}{-c^T}} & {\\color{gold}{0}}\\\\ 0 & A & {\\color{cyan}{b}}\\end{bmatrix}$\n",
    "\n",
    "where \n",
    "* $c^T$ is the objective function coefficient vector\n",
    "* $A$ is the constraint coefficients submatrix\n",
    "* $b$ is the constraint value vector "
   ]
  },
  {
   "cell_type": "markdown",
   "metadata": {},
   "source": [
    "By using row operations, we will convert this tableau into the optimal solution form\n",
    "\n",
    "$\\begin{bmatrix} {\\color{red}{1}} & {\\color{lime}{\\vec{0}}} & {\\color{lime}{{c_s}^T}} & {\\color{gold}{Z}}\\\\ 0 & I & A_s & {\\color{cyan}{b}}\\end{bmatrix}$\n",
    "\n",
    "where \n",
    "* ${\\color{gold}{Z}}$ is the object function's optimal value\n",
    "* ${\\color{lime}{{c_s}^T}}$ are the positive slack coefficients in the ${\\color{lime}{c}}$ section\n",
    "* $A_s$ is submatrix of slack coefficients\n",
    "* $I$ is a square identity matrix"
   ]
  },
  {
   "cell_type": "markdown",
   "metadata": {},
   "source": [
    "We have an objective function and 2 constraints, so our matrix will have 3 rows.\n",
    "\n",
    "Standard form requires that the constraints be equalities.  To fulfull this requirement, we introduce a new slack variable for each inequality constraint.\n",
    "\n",
    "For example,  \n",
    "&nbsp;&nbsp;&nbsp;&nbsp;$x + 2 y <= 8$  \n",
    "will become   \n",
    "&nbsp;&nbsp;&nbsp;&nbsp;$x + 2 y + s_1 = 8$  "
   ]
  },
  {
   "cell_type": "markdown",
   "metadata": {},
   "source": [
    "After inserting the slack variables, we can write out our tableau as\n",
    "\n",
    "$\\begin{bmatrix} {\\color{red}{1}} & {\\color{lime}{-3}} & {\\color{lime}{-4}} & {\\color{lime}{0}} & {\\color{lime}{0}} & {\\color{gold}{0}}\\\\ 0 & 1 & 2 & 1 & 0 & {\\color{cyan}{8}}\\\\0 & 1 & 1 & 0 & 1 & {\\color{cyan}{6}}\\end{bmatrix}$\n",
    "\n",
    "Note that ${\\color{lime}{c^T}}$ represents the coefficients for the vector $\\begin{bmatrix} x & y & s_1 & s_2 \\end{bmatrix}$  \n",
    "We will be referring to the x and y columns later on.\n",
    "\n",
    "When we've eliminated all of the negatives in the ${\\color{lime}{c^T}}$ section by row operations, we will have achieved our optimal solution."
   ]
  },
  {
   "cell_type": "markdown",
   "metadata": {},
   "source": [
    "The algorithm has us start with the most negative coefficient in ${\\color{lime}{c^T}}$, which in our case is ${\\color{lime}{-4}}$ in the y column\n",
    "\n",
    "We then take the values in the ${\\color{cyan}{b}}$ vector which are  \n",
    "$\\begin{bmatrix}{\\color{cyan}{8}}\\\\{\\color{cyan}{6}}\\end{bmatrix}$  \n",
    "and divide them elementwise by the $A$ coefficients for the y column, which are   \n",
    "$\\begin{bmatrix}2\\\\1\\end{bmatrix}$  \n",
    "which yields the ratio vector\n",
    "$\\begin{bmatrix}4\\\\6\\end{bmatrix}$  \n",
    "\n",
    "We choose the first constraint because its ratio of $4$ is the lowest"
   ]
  },
  {
   "cell_type": "markdown",
   "metadata": {},
   "source": [
    "We divide $\\vec{R_1}$ by the chosen $A$ coefficient, 2, and the tableau becomes\n",
    "\n",
    "$\\begin{bmatrix} {\\color{red}{1}} & {\\color{lime}{-3}} & {\\color{lime}{-4}} & {\\color{lime}{0}} & {\\color{lime}{0}} & {\\color{gold}{0}}\\\\ 0 & \\frac{1}{2} & 1 & \\frac{1}{2} & 0 & {\\color{cyan}{4}}\\\\0 & 1 & 1 & 0 & 1 & {\\color{cyan}{6}}\\end{bmatrix}$"
   ]
  },
  {
   "cell_type": "markdown",
   "metadata": {},
   "source": [
    "We want the y column to become  \n",
    "$\\begin{bmatrix}{\\color{lime}{0}} \\\\ 1 \\\\ 0 \\end{bmatrix}$  \n",
    "which we will achieve by row subtraction"
   ]
  },
  {
   "cell_type": "markdown",
   "metadata": {},
   "source": [
    "\n",
    "We add ${\\color{lime}{4}} * \\vec{R_1}$ to the objective row $\\vec{R_0}$, and the tableau becomes\n",
    "\n",
    "$\\begin{bmatrix} {\\color{red}{1}} & {\\color{lime}{-1}} & {\\color{lime}{0}} & {\\color{lime}{2}} & {\\color{lime}{0}} & {\\color{gold}{16}}\\\\ 0 & \\frac{1}{2} & 1 & \\frac{1}{2} & 0 & {\\color{cyan}{4}}\\\\0 & 1 & 1 & 0 & 1 & {\\color{cyan}{6}}\\end{bmatrix}$"
   ]
  },
  {
   "cell_type": "markdown",
   "metadata": {},
   "source": [
    "We add $-1 * \\vec{R_1}$ to $\\vec{R_2}$, and the tableau becomes\n",
    "\n",
    "$\\begin{bmatrix} {\\color{red}{1}} & {\\color{lime}{-1}} & {\\color{lime}{0}} & {\\color{lime}{2}} & {\\color{lime}{0}} & {\\color{gold}{16}}\\\\ 0 & \\frac{1}{2} & 1 & \\frac{1}{2} & 0 & {\\color{cyan}{4}}\\\\0 & \\frac{1}{2} & 0 & -\\frac{1}{2} & 1 & {\\color{cyan}{2}}\\end{bmatrix}$"
   ]
  },
  {
   "cell_type": "markdown",
   "metadata": {},
   "source": [
    "We observe that the ${\\color{lime}{c^T}}$ section has a negative coefficient in the x column\n",
    "\n",
    "We then take the values in the ${\\color{cyan}{b}}$ vector which are  \n",
    "$\\begin{bmatrix}{\\color{cyan}{4}}\\\\{\\color{cyan}{2}}\\end{bmatrix}$  \n",
    "and divide them elementwise by the $A$ coefficients for that column, which are   \n",
    "$\\begin{bmatrix}\\frac{1}{2}\\\\\\frac{1}{2}\\end{bmatrix}$  \n",
    "which yields the ratio vector\n",
    "$\\begin{bmatrix}8\\\\4\\end{bmatrix}$   \n",
    "\n",
    "We observe that $\\vec{R_2}$ has the smallest ratio"
   ]
  },
  {
   "cell_type": "markdown",
   "metadata": {},
   "source": [
    "We want the x column to become  \n",
    "$\\begin{bmatrix}{\\color{lime}{0}} \\\\ 0 \\\\ 1 \\end{bmatrix}$  \n",
    "which we will achieve by row operations"
   ]
  },
  {
   "cell_type": "markdown",
   "metadata": {},
   "source": [
    "We multiply $\\vec{R_2}$ by 2, and the tableau becomes  \n",
    "$\\begin{bmatrix} {\\color{red}{1}} & {\\color{lime}{-1}} & {\\color{lime}{0}} & {\\color{lime}{2}} & {\\color{lime}{0}} & {\\color{gold}{16}}\\\\ 0 & \\frac{1}{2} & 1 & \\frac{1}{2} & 0 & {\\color{cyan}{4}}\\\\0 & 1 & 0 & -1 & 2 & {\\color{cyan}{4}}\\end{bmatrix}$"
   ]
  },
  {
   "cell_type": "markdown",
   "metadata": {},
   "source": [
    "We add $\\vec{R_2}$ to $\\vec{R_0}$  \n",
    "$\\begin{bmatrix} {\\color{red}{1}} & {\\color{lime}{0}} & {\\color{lime}{0}} & {\\color{lime}{1}} & {\\color{lime}{2}} & {\\color{gold}{20}}\\\\ 0 & \\frac{1}{2} & 1 & \\frac{1}{2} & 0 & {\\color{cyan}{4}}\\\\0 & 1 & 0 & -1 & 2 & {\\color{cyan}{4}}\\end{bmatrix}$"
   ]
  },
  {
   "cell_type": "markdown",
   "metadata": {},
   "source": [
    "We add $\\frac{-1}{2}$ $\\vec{R_2}$ to $\\vec{R_1}$  \n",
    "$\\begin{bmatrix} {\\color{red}{1}} & {\\color{lime}{0}} & {\\color{lime}{0}} & {\\color{lime}{1}} & {\\color{lime}{2}} & {\\color{gold}{20}}\\\\ 0 & 0 & 1 & 1 & -1 & {\\color{cyan}{2}}\\\\0 & 1 & 0 & -1 & 2 & {\\color{cyan}{4}}\\end{bmatrix}$"
   ]
  },
  {
   "cell_type": "markdown",
   "metadata": {},
   "source": [
    "We observe that the ${\\color{lime}{c^T}}$ section no longer contains any negative coefficients, indicating that we are done.\n",
    "\n",
    "Because $\\vec{R_2}$ contains a 1 in the x column, and $\\vec{R_1}$ contains a 1 in the y column, we'll swap them for clarity  \n",
    "$\\begin{bmatrix} {\\color{red}{1}} & {\\color{lime}{0}} & {\\color{lime}{0}} & {\\color{lime}{1}} & {\\color{lime}{2}} & {\\color{gold}{20}}\\\\0 & 1 & 0 & -1 & 2 & {\\color{cyan}{4}}\\\\ 0 & 0 & 1 & 1 & -1 & {\\color{cyan}{2}}\\end{bmatrix}$\n",
    "\n",
    "Observe that our tableau is now in the target form  \n",
    "$\\begin{bmatrix} {\\color{red}{1}} & {\\color{lime}{\\vec{0}}} & {\\color{lime}{{c_s}^T}} & {\\color{gold}{Z}}\\\\ 0 & I & A_s & {\\color{cyan}{b}}\\end{bmatrix}$"
   ]
  },
  {
   "cell_type": "markdown",
   "metadata": {},
   "source": [
    "Interpreting this, we see that the objective function ${\\color{gold}{Z}}$ is maximized to a value of ${\\color{gold}{20}}$, when x = $\\color{cyan}{4}$ and y = $\\color{cyan}{2}$\n",
    "\n",
    "Let's verify this with OR-Tools.\n",
    "\n",
    "Remember, our formulation was\n",
    "\n",
    "Variables  \n",
    "&nbsp;&nbsp;&nbsp;&nbsp;$x$  \n",
    "&nbsp;&nbsp;&nbsp;&nbsp;$y$  \n",
    "\n",
    "Maximize $3 * x + 4 * y$\n",
    "\n",
    "Subject to  \n",
    "&nbsp;&nbsp;&nbsp;&nbsp;$x + 2 y <= 8$  \n",
    "&nbsp;&nbsp;&nbsp;&nbsp;$x + y <= 6$  "
   ]
  },
  {
   "cell_type": "code",
   "execution_count": 2,
   "metadata": {},
   "outputs": [
    {
     "data": {
      "text/html": [
       "<div><div></div><div></div><div><strong>Installed Packages</strong><ul><li><span>Google.OrTools, 9.2.9972</span></li></ul></div></div>"
      ]
     },
     "metadata": {},
     "output_type": "display_data"
    }
   ],
   "source": [
    "#r \"nuget: Google.OrTools, 9.2.9972\""
   ]
  },
  {
   "cell_type": "code",
   "execution_count": 3,
   "metadata": {
    "dotnet_interactive": {
     "language": "csharp"
    }
   },
   "outputs": [
    {
     "data": {
      "text/plain": [
       "OPTIMAL x:4.0, y:2.0, 3 * x + 4 * y = 20.0"
      ]
     },
     "metadata": {},
     "output_type": "display_data"
    }
   ],
   "source": [
    "using Google.OrTools.LinearSolver;\n",
    "\n",
    "Solver\n",
    "    solver = Solver.CreateSolver(\"GLOP\");\n",
    "\n",
    "Variable\n",
    "    x = solver.MakeNumVar(0.0, double.PositiveInfinity, nameof(x)),\n",
    "    y = solver.MakeNumVar(0.0, double.PositiveInfinity, nameof(y));\n",
    "\n",
    "solver.Maximize(3 * x + 4 * y);\n",
    "\n",
    "// x + 2y <= 8.\n",
    "solver.Add(x + 2 * y <= 8);\n",
    "\n",
    "// x + y <= 6.\n",
    "solver.Add(x + y <= 6);\n",
    "\n",
    "Solver.ResultStatus \n",
    "    results = solver.Solve();\n",
    "\n",
    "double\n",
    "    optX = x.SolutionValue(),\n",
    "    optY = y.SolutionValue(),\n",
    "    optO = solver.Objective().Value();\n",
    "    \n",
    "display($\"{results} x:{optX:f1}, y:{optY:f1}, 3 * x + 4 * y = {optO:f1}\");\n"
   ]
  }
 ],
 "metadata": {
  "kernelspec": {
   "display_name": ".NET (C#)",
   "language": "C#",
   "name": "python397jvsc74a57bd0b3ba2566441a7c06988d0923437866b63cedc61552a5af99d1f4fb67d367b25f"
  },
  "language_info": {
   "file_extension": ".cs",
   "mimetype": "text/x-csharp",
   "name": "C#",
   "pygments_lexer": "csharp",
   "version": "9.0"
  }
 },
 "nbformat": 4,
 "nbformat_minor": 2
}
