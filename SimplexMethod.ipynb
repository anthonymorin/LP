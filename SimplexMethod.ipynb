{
 "cells": [
  {
   "cell_type": "markdown",
   "metadata": {},
   "source": [
    "# The Simplex Method\n",
    "\n",
    "We've observed that the Google OR-Tools GLOP solver can solve LP problems, but what is it really doing?\n",
    "\n",
    "Let's solve a new problem step by step using the Simplex method, and verify the results with OR-Tools."
   ]
  },
  {
   "cell_type": "markdown",
   "metadata": {},
   "source": [
    "We'll start by writing out the problem in standard form\n",
    "\n",
    "Variables  \n",
    "&nbsp;&nbsp;&nbsp;&nbsp;$x$  \n",
    "&nbsp;&nbsp;&nbsp;&nbsp;$y$  \n",
    "\n",
    "Maximize $3 * x + 4 * y$\n",
    "\n",
    "Subject to  \n",
    "&nbsp;&nbsp;&nbsp;&nbsp;$x + 2 y <= 8$  \n",
    "&nbsp;&nbsp;&nbsp;&nbsp;$x + y <= 6$  "
   ]
  },
  {
   "cell_type": "markdown",
   "metadata": {},
   "source": [
    "We want to convert this into what's called a tableau, which is a matrix of the form  \n",
    "\n",
    "$\\begin{bmatrix} {\\color{red}{1}} & {\\color{lime}{-c^T}} & 0\\\\ 0 & A & {\\color{cyan}{b}}\\end{bmatrix}$\n",
    "\n",
    "where $c^T$ is the objective function coefficient vector, $A$ is the constraint coefficients submatrix, and $b$ is the constraint value vector  \n",
    "\n",
    "We have an objective function and 2 constraints, so our matrix will have 3 rows.\n",
    "\n",
    "Standard form requires that the constraints be equalities.  To fulfull this requirement, we introduce a new slack variable for each inequality constraint.\n",
    "\n",
    "For example,  \n",
    "&nbsp;&nbsp;&nbsp;&nbsp;$x + 2 y <= 8$  \n",
    "will become   \n",
    "&nbsp;&nbsp;&nbsp;&nbsp;$x + 2 y + s_1 = 8$  "
   ]
  },
  {
   "cell_type": "markdown",
   "metadata": {},
   "source": [
    "After inserting the slack variables, we can write out our tableau as\n",
    "\n",
    "$\\begin{bmatrix} {\\color{red}{1}} & {\\color{lime}{-3}} & {\\color{lime}{-4}} & {\\color{lime}{0}} & {\\color{lime}{0}} & 0\\\\ 0 & 1 & 2 & 1 & 0 & {\\color{cyan}{8}}\\\\0 & 1 & 1 & 0 & 1 & {\\color{cyan}{6}}\\end{bmatrix}$"
   ]
  },
  {
   "cell_type": "markdown",
   "metadata": {},
   "source": [
    "When we've eliminated all of the negatives in the ${\\color{lime}{c^T}}$ section by row operations, we will have achieved our optimal solution.\n",
    "\n",
    "The algorithm has us start with the most negative coefficient, which in our case is ${\\color{lime}{-4}}$\n",
    "\n",
    "We then take the values in the ${\\color{cyan}{b}}$ vector which are  \n",
    "$\\begin{bmatrix}{\\color{cyan}{8}}\\\\{\\color{cyan}{6}}\\end{bmatrix}$  \n",
    "and divide them elementwise by the $A$ coefficients for that column, which are   \n",
    "$\\begin{bmatrix}2\\\\1\\end{bmatrix}$  \n",
    "which yields the ratio vector\n",
    "$\\begin{bmatrix}4\\\\6\\end{bmatrix}$  \n",
    "\n",
    "We choose the first constraint because its ratio of $4$ is the lowest"
   ]
  },
  {
   "cell_type": "markdown",
   "metadata": {},
   "source": [
    "We divide constraint row 1 by the chosen $A$ coefficient, 2, and the tableau becomes\n",
    "\n",
    "$\\begin{bmatrix} {\\color{red}{1}} & {\\color{lime}{-3}} & {\\color{lime}{-4}} & {\\color{lime}{0}} & {\\color{lime}{0}} & 0\\\\ 0 & \\frac{1}{2} & 1 & \\frac{1}{2} & 0 & {\\color{cyan}{4}}\\\\0 & 1 & 1 & 0 & 1 & {\\color{cyan}{6}}\\end{bmatrix}$"
   ]
  },
  {
   "cell_type": "markdown",
   "metadata": {},
   "source": [
    "We want the 3rd column to become  \n",
    "$\\begin{bmatrix}{\\color{lime}{0}} \\\\ 1 \\\\ 0 \\end{bmatrix}$  \n",
    "which we will achieve by row subtraction"
   ]
  },
  {
   "cell_type": "markdown",
   "metadata": {},
   "source": [
    "\n",
    "We subtract constraint row 1 multiplied by the ${\\color{lime}{c^T}}$ coefficient ${\\color{lime}{-4}}$ from the objective row, and the tableau becomes\n",
    "\n",
    "$\\begin{bmatrix} {\\color{red}{1}} & {\\color{lime}{-1}} & {\\color{lime}{0}} & {\\color{lime}{2}} & {\\color{lime}{0}} & 16\\\\ 0 & \\frac{1}{2} & 1 & \\frac{1}{2} & 0 & {\\color{cyan}{4}}\\\\0 & 1 & 1 & 0 & 1 & {\\color{cyan}{6}}\\end{bmatrix}$"
   ]
  },
  {
   "cell_type": "markdown",
   "metadata": {},
   "source": [
    "We subtract constraint row 1 multiplied by the constraint row 2 coefficient $1$ from the constraint row 2, and the tableau becomes\n",
    "\n",
    "$\\begin{bmatrix} {\\color{red}{1}} & {\\color{lime}{-1}} & {\\color{lime}{0}} & {\\color{lime}{2}} & {\\color{lime}{0}} & 16\\\\ 0 & \\frac{1}{2} & 1 & \\frac{1}{2} & 0 & {\\color{cyan}{4}}\\\\0 & \\frac{1}{2} & 0 & -\\frac{1}{2} & 1 & {\\color{cyan}{2}}\\end{bmatrix}$"
   ]
  },
  {
   "cell_type": "markdown",
   "metadata": {},
   "source": [
    "We observe that the ${\\color{lime}{c^T}}$ section has a negative coefficient in column 1\n",
    "\n",
    "We then take the values in the ${\\color{cyan}{b}}$ vector which are  \n",
    "$\\begin{bmatrix}{\\color{cyan}{4}}\\\\{\\color{cyan}{2}}\\end{bmatrix}$  \n",
    "and divide them elementwise by the $A$ coefficients for that column, which are   \n",
    "$\\begin{bmatrix}\\frac{1}{2}\\\\\\frac{1}{2}\\end{bmatrix}$  \n",
    "which yields the ratio vector\n",
    "$\\begin{bmatrix}8\\\\4\\end{bmatrix}$   \n",
    "\n",
    "We observe that constraint row 2 has the smallest ratio"
   ]
  },
  {
   "cell_type": "markdown",
   "metadata": {},
   "source": [
    "We want the 2rd column to become  \n",
    "$\\begin{bmatrix}{\\color{lime}{0}} \\\\ 0 \\\\ 1 \\end{bmatrix}$  \n",
    "which we will achieve by row operations"
   ]
  },
  {
   "cell_type": "markdown",
   "metadata": {},
   "source": [
    "We multiply row 3 by 2, and the tableau becomes  \n",
    "$\\begin{bmatrix} {\\color{red}{1}} & {\\color{lime}{-1}} & {\\color{lime}{0}} & {\\color{lime}{2}} & {\\color{lime}{0}} & 16\\\\ 0 & \\frac{1}{2} & 1 & \\frac{1}{2} & 0 & {\\color{cyan}{4}}\\\\0 & 1 & 0 & -1 & 2 & {\\color{cyan}{4}}\\end{bmatrix}$"
   ]
  },
  {
   "cell_type": "markdown",
   "metadata": {},
   "source": [
    "We add row 3 to row 1  \n",
    "$\\begin{bmatrix} {\\color{red}{1}} & {\\color{lime}{0}} & {\\color{lime}{0}} & {\\color{lime}{1}} & {\\color{lime}{2}} & 20\\\\ 0 & \\frac{1}{2} & 1 & \\frac{1}{2} & 0 & {\\color{cyan}{4}}\\\\0 & 1 & 0 & -1 & 2 & {\\color{cyan}{4}}\\end{bmatrix}$"
   ]
  },
  {
   "cell_type": "markdown",
   "metadata": {},
   "source": [
    "We add $\\frac{-1}{2}$ row 3 to row 1  \n",
    "$\\begin{bmatrix} {\\color{red}{1}} & {\\color{lime}{0}} & {\\color{lime}{0}} & {\\color{lime}{1}} & {\\color{lime}{2}} & 20\\\\ 0 & 0 & 1 & 1 & -1 & {\\color{cyan}{2}}\\\\0 & 1 & 0 & -1 & 2 & {\\color{cyan}{4}}\\end{bmatrix}$"
   ]
  },
  {
   "cell_type": "markdown",
   "metadata": {},
   "source": [
    "Because Row 3 contains a 1 in the x column, and Row 2 contains a 1 in the y column, we'll swap them for clarity\n",
    "$\\begin{bmatrix} {\\color{red}{1}} & {\\color{lime}{0}} & {\\color{lime}{0}} & {\\color{lime}{1}} & {\\color{lime}{2}} & 20\\\\0 & 1 & 0 & -1 & 2 & {\\color{cyan}{4}}\\\\ 0 & 0 & 1 & 1 & -1 & {\\color{cyan}{2}}\\end{bmatrix}$"
   ]
  },
  {
   "cell_type": "markdown",
   "metadata": {},
   "source": [
    "Interpreting this, we see that the objective function is maximized to a value of 20, when x = $\\color{cyan}{4}$ and y = $\\color{cyan}{2}$\n",
    "\n",
    "Let's verify this with OR-Tools.\n",
    "\n",
    "Remember, our formulation was\n",
    "\n",
    "Variables  \n",
    "&nbsp;&nbsp;&nbsp;&nbsp;$x$  \n",
    "&nbsp;&nbsp;&nbsp;&nbsp;$y$  \n",
    "\n",
    "Maximize $3 * x + 4 * y$\n",
    "\n",
    "Subject to  \n",
    "&nbsp;&nbsp;&nbsp;&nbsp;$x + 2 y <= 8$  \n",
    "&nbsp;&nbsp;&nbsp;&nbsp;$x + y <= 6$  "
   ]
  },
  {
   "cell_type": "code",
   "execution_count": null,
   "metadata": {
    "dotnet_interactive": {
     "language": "csharp"
    }
   },
   "outputs": [
    {
     "data": {
      "text/html": [
       "<div><div></div><div></div><div><strong>Installed Packages</strong><ul><li><span>Google.OrTools, 9.2.9972</span></li></ul></div></div>"
      ]
     },
     "metadata": {},
     "output_type": "display_data"
    },
    {
     "data": {
      "text/plain": [
       "OPTIMAL x:4.0, y:2.0, 3 * x + 4 * y = 20.0"
      ]
     },
     "metadata": {},
     "output_type": "display_data"
    }
   ],
   "source": [
    "#r \"nuget: Google.OrTools, 9.2.9972\"\n",
    "\n",
    "using Google.OrTools.LinearSolver;\n",
    "\n",
    "Solver\n",
    "    solver = Solver.CreateSolver(\"GLOP\");\n",
    "\n",
    "Variable\n",
    "    x = solver.MakeNumVar(0.0, double.PositiveInfinity, nameof(x)),\n",
    "    y = solver.MakeNumVar(0.0, double.PositiveInfinity, nameof(y));\n",
    "\n",
    "solver.Maximize(3 * x + 4 * y);\n",
    "\n",
    "// x + 2y <= 8.\n",
    "solver.Add(x + 2 * y <= 8);\n",
    "\n",
    "// x + y <= 6.\n",
    "solver.Add(x + y <= 6);\n",
    "\n",
    "Solver.ResultStatus \n",
    "    results = solver.Solve();\n",
    "\n",
    "double\n",
    "    optX = x.SolutionValue(),\n",
    "    optY = y.SolutionValue(),\n",
    "    optO = solver.Objective().Value();\n",
    "    \n",
    "display($\"{results} x:{optX:f1}, y:{optY:f1}, 3 * x + 4 * y = {optO:f1}\");\n"
   ]
  }
 ],
 "metadata": {
  "kernelspec": {
   "display_name": ".NET (C#)",
   "language": "C#",
   "name": ".net-csharp"
  },
  "language_info": {
   "name": "C#"
  }
 },
 "nbformat": 4,
 "nbformat_minor": 2
}
